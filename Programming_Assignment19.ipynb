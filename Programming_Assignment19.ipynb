{
 "cells": [
  {
   "cell_type": "code",
   "execution_count": 11,
   "id": "91e8587b",
   "metadata": {},
   "outputs": [],
   "source": [
    "#Q1\n",
    "def double(s):\n",
    "    for i in range(len(s)):\n",
    "        print(s[i]*2,end=\"\")"
   ]
  },
  {
   "cell_type": "code",
   "execution_count": 14,
   "id": "1f6c146e",
   "metadata": {},
   "outputs": [
    {
     "name": "stdout",
     "output_type": "stream",
     "text": [
      "1100!!"
     ]
    }
   ],
   "source": [
    "double('10!')"
   ]
  },
  {
   "cell_type": "code",
   "execution_count": 15,
   "id": "196c05bd",
   "metadata": {},
   "outputs": [],
   "source": [
    "#Q2\n",
    "def boolfunc(bool):\n",
    "    if bool==\"True\":\n",
    "        return \"False\"\n",
    "    elif bool==\"False\":\n",
    "        return \"True\"\n",
    "    else:\n",
    "        return \"boolean expected\""
   ]
  },
  {
   "cell_type": "code",
   "execution_count": 16,
   "id": "07d8b5ec",
   "metadata": {},
   "outputs": [
    {
     "data": {
      "text/plain": [
       "'False'"
      ]
     },
     "execution_count": 16,
     "metadata": {},
     "output_type": "execute_result"
    }
   ],
   "source": [
    "boolfunc(\"True\")"
   ]
  },
  {
   "cell_type": "code",
   "execution_count": 17,
   "id": "7e7ef0de",
   "metadata": {},
   "outputs": [
    {
     "data": {
      "text/plain": [
       "'True'"
      ]
     },
     "execution_count": 17,
     "metadata": {},
     "output_type": "execute_result"
    }
   ],
   "source": [
    "boolfunc(\"False\")"
   ]
  },
  {
   "cell_type": "code",
   "execution_count": 18,
   "id": "1040f408",
   "metadata": {},
   "outputs": [
    {
     "data": {
      "text/plain": [
       "'boolean expected'"
      ]
     },
     "execution_count": 18,
     "metadata": {},
     "output_type": "execute_result"
    }
   ],
   "source": [
    "boolfunc(67)"
   ]
  },
  {
   "cell_type": "code",
   "execution_count": 42,
   "id": "6434b422",
   "metadata": {},
   "outputs": [],
   "source": [
    "#Q4.\n",
    "l=[]\n",
    "def capt(s):\n",
    "    for i in range(len(s)):\n",
    "        if (s[i].isupper()):\n",
    "            l.append(i)\n",
    "    print(l) "
   ]
  },
  {
   "cell_type": "code",
   "execution_count": 43,
   "id": "0d675ef2",
   "metadata": {},
   "outputs": [
    {
     "name": "stdout",
     "output_type": "stream",
     "text": [
      "[]\n"
     ]
    }
   ],
   "source": [
    "capt(\"string\")"
   ]
  },
  {
   "cell_type": "code",
   "execution_count": 52,
   "id": "9b75cba3",
   "metadata": {},
   "outputs": [],
   "source": [
    "#Q5.\n",
    "def find_even(i):\n",
    "    even=[x for x in range(i+1) if x%2==0]\n",
    "    print(even)\n",
    "    \n",
    "\n",
    "    "
   ]
  },
  {
   "cell_type": "code",
   "execution_count": 53,
   "id": "bae3e5d0",
   "metadata": {},
   "outputs": [
    {
     "name": "stdout",
     "output_type": "stream",
     "text": [
      "[0, 2, 4, 6, 8]\n"
     ]
    }
   ],
   "source": [
    "find_even(8)"
   ]
  },
  {
   "cell_type": "code",
   "execution_count": 75,
   "id": "9d053ef8",
   "metadata": {},
   "outputs": [],
   "source": [
    "#Q3.\n",
    "import math\n",
    "def paper_fold(n):\n",
    "#     paper_thickness=0.5mm\n",
    "    print(str(math.pow(2,(n-1))/1000)+\"m\")\n",
    "    \n",
    "    "
   ]
  },
  {
   "cell_type": "code",
   "execution_count": 76,
   "id": "051f7976",
   "metadata": {},
   "outputs": [
    {
     "name": "stdout",
     "output_type": "stream",
     "text": [
      "1048.576m\n"
     ]
    }
   ],
   "source": [
    "paper_fold(21)"
   ]
  },
  {
   "cell_type": "code",
   "execution_count": null,
   "id": "816bec69",
   "metadata": {},
   "outputs": [],
   "source": []
  }
 ],
 "metadata": {
  "kernelspec": {
   "display_name": "Python 3 (ipykernel)",
   "language": "python",
   "name": "python3"
  },
  "language_info": {
   "codemirror_mode": {
    "name": "ipython",
    "version": 3
   },
   "file_extension": ".py",
   "mimetype": "text/x-python",
   "name": "python",
   "nbconvert_exporter": "python",
   "pygments_lexer": "ipython3",
   "version": "3.9.12"
  }
 },
 "nbformat": 4,
 "nbformat_minor": 5
}
